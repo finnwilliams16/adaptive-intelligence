{
  "cells": [
    {
      "cell_type": "markdown",
      "id": "02944396",
      "metadata": {
        "id": "02944396"
      },
      "source": [
        "# Assignment"
      ]
    },
    {
      "cell_type": "code",
      "execution_count": 1,
      "id": "c9652bc6",
      "metadata": {
        "id": "c9652bc6"
      },
      "outputs": [],
      "source": [
        "# Import \n",
        "\n",
        "import numpy as np\n",
        "import matplotlib.pyplot as plt\n",
        "from tqdm import tqdm_notebook as tqdm\n",
        "from degree_freedom_queen import *\n",
        "from degree_freedom_king1 import *\n",
        "from degree_freedom_king2 import *\n",
        "from generate_game import *\n",
        "from Chess_env import *\n",
        "\n",
        "\n",
        "size_board = 4"
      ]
    },
    {
      "cell_type": "code",
      "source": [
        "## Let's define Adam, see notebook Adam's playgroud for more information\n",
        "np.random.seed(0)\n",
        "class Adam:\n",
        "\n",
        "    def __init__(self, Params, beta1):\n",
        "        \n",
        "        N_dim=np.shape(np.shape(Params))[0] # It finds out if the parameters given are in a vector (N_dim=1) or a matrix (N_dim=2)\n",
        "        \n",
        "        # INITIALISATION OF THE MOMENTUMS\n",
        "        if N_dim==1:\n",
        "               \n",
        "            self.N1=np.shape(Params)[0]\n",
        "            \n",
        "            self.mt=np.zeros([self.N1])\n",
        "            self.vt=np.zeros([self.N1])\n",
        "        \n",
        "        if N_dim==2:\n",
        "            \n",
        "            self.N1=np.shape(Params)[0]\n",
        "            self.N2=np.shape(Params)[1]\n",
        "        \n",
        "            self.mt=np.zeros([self.N1,self.N2])\n",
        "            self.vt=np.zeros([self.N1,self.N2])\n",
        "        \n",
        "        # HYPERPARAMETERS OF ADAM\n",
        "        self.beta1=beta1\n",
        "        self.beta2=0.999\n",
        "        \n",
        "        self.epsilon=10**(-8)\n",
        "        \n",
        "        # COUNTER OF THE TRAINING PROCESS\n",
        "        self.counter=0\n",
        "        \n",
        "        \n",
        "    def Compute(self,Grads):\n",
        "                \n",
        "        self.counter=self.counter+1\n",
        "        \n",
        "        self.mt=self.beta1*self.mt+(1-self.beta1)*Grads\n",
        "        \n",
        "        self.vt=self.beta2*self.vt+(1-self.beta2)*Grads**2\n",
        "        \n",
        "        mt_n=self.mt/(1-self.beta1**self.counter)\n",
        "        vt_n=self.vt/(1-self.beta2**self.counter)\n",
        "        \n",
        "        New_grads=mt_n/(np.sqrt(vt_n)+self.epsilon)\n",
        "        \n",
        "        return New_grads\n",
        "\n",
        "beta1=0.9 # First order momentum for Adam\n",
        "\n",
        "def EpsilonGreedy_Policy(Qvalues, epsilon):\n",
        "    \n",
        "\n",
        "    N_class=np.shape(Qvalues)[1]\n",
        "    batch_size=np.shape(Qvalues)[0]\n",
        "\n",
        "    rand_values=np.random.uniform(0,1,[batch_size])\n",
        "\n",
        "    rand_a=rand_values<epsilon\n",
        "    a=np.zeros([batch_size,N_class])\n",
        "\n",
        "    for i in range(batch_size):\n",
        "\n",
        "        if rand_a[i]==True:\n",
        "\n",
        "            a[i,np.random.randint(0,N_class)]=1\n",
        "\n",
        "        else:\n",
        "\n",
        "            a[i,np.argmax(Qvalues[i])]=1\n",
        "            \n",
        "    return a"
      ],
      "metadata": {
        "id": "15YzVmY9Mseq"
      },
      "id": "15YzVmY9Mseq",
      "execution_count": 2,
      "outputs": []
    },
    {
      "cell_type": "markdown",
      "id": "0bceca7c",
      "metadata": {
        "id": "0bceca7c"
      },
      "source": [
        "## The Environment\n",
        "\n",
        "You can find the environment in the file Chess_env, which contains the class Chess_env. To define an object, you need to provide the board size considered as input. In our example, size_board=4. \n",
        "Chess_env is composed by the following methods:\n",
        "\n",
        "1. Initialise_game. The method initialises an episode by placing the three pieces considered (Agent's king and queen, enemy's king) in the chess board. The outputs of the method are described below in order.\n",
        "\n",
        "     S $\\;$ A matrix representing the board locations filled with 4 numbers: 0, no piece in that position; 1, location of the \n",
        "     agent's king; 2 location of the queen; 3 location of the enemy king.\n",
        "     \n",
        "     X $\\;$ The features, that is the input to the neural network. See the assignment for more information regarding the            definition of the features adopted. To personalise this, go into the Features method of the class Chess_env() and change        accordingly.\n",
        "     \n",
        "     allowed_a $\\;$ The allowed actions that the agent can make. The agent is moving a king, with a total number of 8                possible actions, and a queen, with a total number of $(board_{size}-1)\\times 8$ actions. The total number of possible actions correspond      to the sum of the two, but not all actions are allowed in a given position (movements to locations outside the borders or      against chess rules). Thus, the variable allowed_a is a vector that is one (zero) for an action that the agent can (can't)      make. Be careful, apply the policy considered on the actions that are allowed only.\n",
        "     \n",
        "\n",
        "2. OneStep. The method performs a one step update of the system. Given as input the action selected by the agent, it updates the chess board by performing that action and the response of the enemy king (which is a random allowed action in the settings considered). The first three outputs are the same as for the Initialise_game method, but the variables are computed for the position reached after the update of the system. The fourth and fifth outputs are:\n",
        "\n",
        "     R $\\;$ The reward. To change this, look at the OneStep method of the class where the rewards are set.\n",
        "     \n",
        "     Done $\\;$ A variable that is 1 if the episode has ended (checkmate or draw).\n",
        "     \n",
        "     \n",
        "3. Features. Given the chessboard position, the method computes the features.\n",
        "\n",
        "This information and a quick analysis of the class should be all you need to get going. The other functions that the class exploits are uncommented and constitute an example on how not to write a python code. You can take a look at them if you want, but it is not necessary.\n",
        "\n",
        "\n",
        "\n",
        "\n"
      ]
    },
    {
      "cell_type": "code",
      "execution_count": 3,
      "id": "9593a299",
      "metadata": {
        "id": "9593a299"
      },
      "outputs": [],
      "source": [
        "## INITIALISE THE ENVIRONMENT\n",
        "\n",
        "env=Chess_Env(size_board)"
      ]
    },
    {
      "cell_type": "code",
      "execution_count": 4,
      "id": "bbc05bfd",
      "metadata": {
        "colab": {
          "base_uri": "https://localhost:8080/"
        },
        "id": "bbc05bfd",
        "outputId": "efe2c4cf-3bde-4392-b82d-60de450730d8"
      },
      "outputs": [
        {
          "output_type": "stream",
          "name": "stdout",
          "text": [
            "[[0 0 0 0]\n",
            " [3 0 0 0]\n",
            " [0 0 1 2]\n",
            " [0 0 0 0]]\n",
            "check?  0\n",
            "dofk2  2\n",
            "\n",
            "[[0 3 0 0]\n",
            " [0 0 0 0]\n",
            " [0 0 1 0]\n",
            " [0 0 2 0]]\n",
            "0  0\n",
            "check?  0\n",
            "dofk2  2\n",
            "\n",
            "[[0 0 3 0]\n",
            " [0 0 0 0]\n",
            " [0 0 1 0]\n",
            " [2 0 0 0]]\n",
            "0  0\n",
            "check?  0\n",
            "dofk2  1\n",
            "\n",
            "[[0 0 0 0]\n",
            " [0 0 0 3]\n",
            " [0 0 0 0]\n",
            " [2 0 0 1]]\n",
            "0  0\n",
            "check?  0\n",
            "dofk2  1\n",
            "\n",
            "[[0 0 3 0]\n",
            " [0 0 0 0]\n",
            " [0 2 0 0]\n",
            " [0 0 0 1]]\n",
            "0  0\n",
            "check?  0\n",
            "dofk2  1\n",
            "\n",
            "[[0 3 0 0]\n",
            " [0 0 0 0]\n",
            " [2 0 0 0]\n",
            " [0 0 0 1]]\n",
            "0  0\n",
            "check?  0\n",
            "dofk2  1\n"
          ]
        }
      ],
      "source": [
        "## PRINT 5 STEPS OF AN EPISODE CONSIDERING A RANDOM AGENT\n",
        "\n",
        "S,X,allowed_a=env.Initialise_game()                       # INTIALISE GAME\n",
        "\n",
        "print(S)                                                  # PRINT CHESS BOARD (SEE THE DESCRIPTION ABOVE)\n",
        "print('check? ',env.check)                                # PRINT VARIABLE THAT TELLS IF ENEMY KING IS IN CHECK (1) OR NOT (0)\n",
        "print('dofk2 ',np.sum(env.dfk2_constrain).astype(int))    # PRINT THE NUMBER OF LOCATIONS THAT THE ENEMY KING CAN MOVE TO\n",
        "\n",
        "\n",
        "for i in range(5):\n",
        "    \n",
        "    a,_=np.where(allowed_a==1)                  # FIND WHAT THE ALLOWED ACTIONS ARE\n",
        "    a_agent=np.random.permutation(a)[0]         # MAKE A RANDOM ACTION\n",
        "    S,X,allowed_a,R,Done=env.OneStep(a_agent)   # UPDATE THE ENVIRONMENT\n",
        "    \n",
        "    \n",
        "    ## PRINT CHESS BOARD AND VARIABLES\n",
        "    print('')\n",
        "    print(S)\n",
        "    print(R,'', Done)\n",
        "    print('check? ',env.check)\n",
        "    print('dofk2 ',np.sum(env.dfk2_constrain).astype(int))\n",
        "    \n",
        "    \n",
        "    # TERMINATE THE EPISODE IF Done=True (DRAW OR CHECKMATE)\n",
        "    if Done:\n",
        "        break\n",
        "        \n",
        "# 3: enemy, 2: queen, 1: our king"
      ]
    },
    {
      "cell_type": "code",
      "execution_count": 5,
      "id": "fc16cf7b",
      "metadata": {
        "colab": {
          "base_uri": "https://localhost:8080/"
        },
        "id": "fc16cf7b",
        "outputId": "cd96bd82-d9f7-4df9-aaa5-f88378c45724"
      },
      "outputs": [
        {
          "output_type": "stream",
          "name": "stdout",
          "text": [
            "Random_Agent, Average reward: 0.195 Number of steps:  6.818\n"
          ]
        }
      ],
      "source": [
        "# PERFORM N_episodes=1000 EPISODES MAKING RANDOM ACTIONS AND COMPUTE THE AVERAGE REWARD AND NUMBER OF MOVES \n",
        "\n",
        "S,X,allowed_a=env.Initialise_game()\n",
        "N_episodes=1000\n",
        "\n",
        "# VARIABLES WHERE TO SAVE THE FINAL REWARD IN AN EPISODE AND THE NUMBER OF MOVES \n",
        "R_save_random = np.zeros([N_episodes, 1])\n",
        "N_moves_save_random = np.zeros([N_episodes, 1])\n",
        "\n",
        "for n in range(N_episodes):\n",
        "    \n",
        "    S,X,allowed_a=env.Initialise_game()     # INITIALISE GAME\n",
        "    Done=0                                  # SET Done=0 AT THE BEGINNING\n",
        "    i=1                                     # COUNTER FOR THE NUMBER OF ACTIONS (MOVES) IN AN EPISODE\n",
        "    \n",
        "    # UNTIL THE EPISODE IS NOT OVER...(Done=0)\n",
        "    while Done==0:\n",
        "        \n",
        "        # SAME AS THE CELL BEFORE, BUT SAVING THE RESULTS WHEN THE EPISODE TERMINATES \n",
        "        \n",
        "        a,_=np.where(allowed_a==1) # Get allowed actions\n",
        "        a_agent=np.random.permutation(a)[0] # Take random action\n",
        "        S,X,allowed_a,R,Done=env.OneStep(a_agent) # Update environment\n",
        "        \n",
        "        \n",
        "        if Done:\n",
        "            \n",
        "            R_save_random[n]=np.copy(R)\n",
        "            N_moves_save_random[n]=np.copy(i)\n",
        "\n",
        "            break\n",
        "\n",
        "        i=i+1                               # UPDATE THE COUNTER\n",
        "\n",
        "\n",
        "\n",
        "# AS YOU SEE, THE PERFORMANCE OF A RANDOM AGENT ARE NOT GREAT, SINCE THE MAJORITY OF THE POSITIONS END WITH A DRAW \n",
        "# (THE ENEMY KING IS NOT IN CHECK AND CAN'T MOVE)\n",
        "\n",
        "print('Random_Agent, Average reward:',np.mean(R_save_random),'Number of steps: ',np.mean(N_moves_save_random))\n",
        "\n"
      ]
    },
    {
      "cell_type": "code",
      "execution_count": 6,
      "id": "ece20429",
      "metadata": {
        "id": "ece20429"
      },
      "outputs": [],
      "source": [
        "# INITIALISE THE PARAMETERS OF YOUR NEURAL NETWORK AND...\n",
        "# PLEASE CONSIDER TO USE A MASK OF ONE FOR THE ACTION MADE AND ZERO OTHERWISE IF YOU ARE NOT USING VANILLA GRADIENT DESCENT...\n",
        "# WE SUGGEST A NETWORK WITH ONE HIDDEN LAYER WITH SIZE 200. \n",
        "\n",
        "\n",
        "S,X,allowed_a=env.Initialise_game()\n",
        "N_a=np.shape(allowed_a)[0]   # TOTAL NUMBER OF POSSIBLE ACTIONS\n",
        "\n",
        "N_in=np.shape(X)[0]    ## INPUT SIZE\n",
        "N_h=200                ## NUMBER OF HIDDEN NODES\n",
        "\n",
        "## INITALISE YOUR NEURAL NETWORK...\n",
        "w1=np.random.randn(58,200)/np.sqrt(200)\n",
        "b1=np.zeros([1,200])\n",
        "w2=np.random.randn(200,32)/np.sqrt(32)\n",
        "b2=np.zeros([1, 32])\n",
        "\n",
        "N_check=100 # When performance will be computed\n",
        "\n",
        "# HYPERPARAMETERS SUGGESTED (FOR A GRID SIZE OF 4)\n",
        "\n",
        "epsilon_0 = 0.2     # STARTING VALUE OF EPSILON FOR THE EPSILON-GREEDY POLICY\n",
        "beta = 0.00005      # THE PARAMETER SETS HOW QUICKLY THE VALUE OF EPSILON IS DECAYING (SEE epsilon_f BELOW)\n",
        "gamma = 0.85        # THE DISCOUNT FACTOR\n",
        "eta = 0.0035        # THE LEARNING RATE\n",
        "\n",
        "N_episodes = 100000 # THE NUMBER OF GAMES TO BE PLAYED \n",
        "\n",
        "# SAVING VARIABLES\n",
        "saved_rewards = []\n",
        "saved_moves = []\n",
        "\n",
        "# Adam variables\n",
        "Adam_W1=Adam(w1,beta)\n",
        "Adam_b1=Adam(b1,beta)\n",
        "Adam_W2=Adam(w2,beta)\n",
        "Adam_b2=Adam(b2,beta)\n"
      ]
    },
    {
      "cell_type": "code",
      "source": [
        "def relu(x):\n",
        "    return np.maximum(0, x)\n",
        "def drelu(x):\n",
        "    return np.where(x > 0, 1, 0)"
      ],
      "metadata": {
        "id": "DqfkPFF6X08Y"
      },
      "id": "DqfkPFF6X08Y",
      "execution_count": 7,
      "outputs": []
    },
    {
      "cell_type": "code",
      "execution_count": 8,
      "id": "e6ba1f84",
      "metadata": {
        "colab": {
          "base_uri": "https://localhost:8080/",
          "height": 103,
          "referenced_widgets": [
            "630ad4b9d5f64c0497ea0aafbf03970e",
            "96e7c857a35e4c739b2f3f10dcd5e327",
            "0574ae1bac1841c89a5cd62dc4d9b453",
            "b4ed98d3c4b64672b7bfadc7d571fb40",
            "1e8788d5a7a84a6aaaf568b468b55c1a",
            "eb002361647e4873a35aece73f8a8231",
            "a546902ba3c54522be9db6995cea832f",
            "f0383a161c7d4c3f9c0e649d90e0b8b6",
            "241e85defc5d408187cb3dacf4d9d730",
            "ad9540afbbec4dca89dcdbf6f8e02f0e",
            "6a8a49b562c145cc85df809f1c2759c3"
          ]
        },
        "id": "e6ba1f84",
        "outputId": "85bf7978-fc87-4ecc-ef41-4a30a0429502"
      },
      "outputs": [
        {
          "output_type": "stream",
          "name": "stderr",
          "text": [
            "<ipython-input-8-43f027241d7a>:5: TqdmDeprecationWarning: This function will be removed in tqdm==5.0.0\n",
            "Please use `tqdm.notebook.tqdm` instead of `tqdm.tqdm_notebook`\n",
            "  for n in tqdm(range(N_episodes)):\n"
          ]
        },
        {
          "output_type": "display_data",
          "data": {
            "text/plain": [
              "  0%|          | 0/100000 [00:00<?, ?it/s]"
            ],
            "application/vnd.jupyter.widget-view+json": {
              "version_major": 2,
              "version_minor": 0,
              "model_id": "630ad4b9d5f64c0497ea0aafbf03970e"
            }
          },
          "metadata": {}
        }
      ],
      "source": [
        "# TRAINING LOOP BONE STRUCTURE...\n",
        "# I WROTE FOR YOU A RANDOM AGENT (THE RANDOM AGENT WILL BE SLOWER TO GIVE CHECKMATE THAN AN OPTIMISED ONE, \n",
        "# SO DON'T GET CONCERNED BY THE TIME IT TAKES), CHANGE WITH YOURS ...\n",
        "\n",
        "for n in tqdm(range(N_episodes)):\n",
        "    moves = 0\n",
        "    epsilon_f = epsilon_0 / (1 + beta * n)   ## DECAYING EPSILON\n",
        "    Done=0                                   ## SET DONE TO ZERO (BEGINNING OF THE EPISODE)\n",
        "    i = 1                                    ## COUNTER FOR NUMBER OF ACTIONS\n",
        "    \n",
        "    S,X,allowed_a=env.Initialise_game()      ## INITIALISE GAME\n",
        "    \n",
        "    while Done==0:\n",
        "        a,_=np.where(allowed_a==1) # Get allowed actions\n",
        "\n",
        "        # Forward propagation\n",
        "        z1=np.matmul(X,w1) + np.tile(b1,[1,1]) # wx + b\n",
        "        a1 = relu(z1)  # ReLU\n",
        "        z2=np.matmul(a1,w2)+np.tile(b2,[1,1]) # ax + b\n",
        "        yhat = relu(z2)  # ReLU\n",
        "\n",
        "        # Epsilon greedy\n",
        "        if np.random.rand() < epsilon_f:\n",
        "            Action = np.random.permutation(a)[0]\n",
        "        else:\n",
        "            # Select best action\n",
        "            valid_actions = yhat[0][a] # Get Q values that correspond to best action\n",
        "            largest = np.argmax(valid_actions) # Get largest Q value\n",
        "            Action = a[largest] # Get best \n",
        "\n",
        "        S_next,X_next,allowed_a_next,R,Done=env.OneStep(Action)\n",
        "        \n",
        "        if Done==1 or (i==10):\n",
        "            R_rep = np.repeat(R, 32)\n",
        "            dloss = (R_rep-yhat[0][Action]) # y - yhat\n",
        "            delta_w1 = eta * np.array([X]).T.dot((dloss * drelu(z2)).dot(w2.T) * drelu(z1)) # (y-yhat) * f'(z2) * w2 * f'(z1) * x\n",
        "            delta_b1 = eta * dloss * drelu(z2) * w2 * drelu(z1).T # (y-yhat) * f'(z2) * w2 * f'(z1) * 1\n",
        "            delta_b1 = np.sum(delta_b1, axis=1, keepdims=True) # Make bias fit\n",
        "            delta_w2 = eta * dloss * drelu(z2) * a1.T # (y-yhat) * f'(z2) * a1\n",
        "            delta_b2 = eta * dloss * drelu(z2) # (y-yhat) * f'(x2) * 1\n",
        "            w1=w1+eta*Adam_W1.Compute(delta_w1)\n",
        "            b1=b1+eta*Adam_b1.Compute(delta_b1.T)\n",
        "            w2[Action]=w2[Action]+eta*np.max(Adam_W2.Compute(delta_w2)) # Update only the action weight\n",
        "            #w2[Action]=w2[Action]+eta*np.mean(Adam_W2.Compute(delta_w2)) # Update only the action weight\n",
        "            #w2=w2+eta*Adam_W2.Compute(delta_w2) # Update all weights\n",
        "            b2=b2+eta*Adam_b2.Compute(delta_b2)\n",
        "            # save reward and no of moves\n",
        "            saved_rewards.append(R)\n",
        "            saved_moves.append(i)\n",
        "            break\n",
        "        \n",
        "        else:\n",
        "            # Forward propagation\n",
        "            z1=np.matmul(X,w1) + np.tile(b1,[1,1]) # wx + b\n",
        "            a1 = relu(z1)  # ReLU\n",
        "            z2=np.matmul(a1,w2)+np.tile(b2,[1,1]) # ax + b\n",
        "            yhat_next = relu(z2)  # ReLU\n",
        "\n",
        "            # Rewards\n",
        "            reward = np.repeat(R, 32) + gamma * np.max(yhat_next[0]) # Q learning\n",
        "            #reward = np.repeat(R, 32) + gamma * yhat_next[0][Action] # SARSA\n",
        "\n",
        "            # Backpropagation\n",
        "            dloss = (reward-yhat) # y - yhat\n",
        "            delta_w1 = eta * np.array([X]).T.dot((dloss * drelu(z2)).dot(w2.T) * drelu(z1)) # (y-yhat) * f'(z2) * w2 * f'(z1) * x\n",
        "            delta_b1 = eta * dloss * drelu(z2) * w2 * drelu(z1).T # (y-yhat) * f'(z2) * w2 * f'(z1) * 1\n",
        "            delta_b1 = np.sum(delta_b1, axis=1, keepdims=True) # Make bias fit\n",
        "            delta_w2 = eta * dloss * drelu(z2) * a1.T # (y-yhat) * f'(z2) * a1\n",
        "            delta_b2 = eta * dloss * drelu(z2) # (y-yhat) * f'(x2) * 1\n",
        "            w1=w1+eta*Adam_W1.Compute(delta_w1)\n",
        "            b1=b1+eta*Adam_b1.Compute(delta_b1.T)\n",
        "            w2[Action]=w2[Action]+eta*np.max(Adam_W2.Compute(delta_w2)) # Update only the action weight\n",
        "            #w2[Action]=w2[Action]+eta*np.mean(Adam_W2.Compute(delta_w2)) # Update only the action weight\n",
        "            #w2=w2+eta*Adam_W2.Compute(delta_w2) # Update all weights\n",
        "            w2=w2+eta*Adam_W2.Compute(delta_w2)\n",
        "            b2=b2+eta*Adam_b2.Compute(delta_b2)\n",
        "            \n",
        "        # NEXT STATE AND CO. BECOME ACTUAL STATE...     \n",
        "        S=np.copy(S_next)\n",
        "        X=np.copy(X_next)\n",
        "        allowed_a=np.copy(allowed_a_next)\n",
        "        \n",
        "        i += 1  # UPDATE COUNTER FOR NUMBER OF ACTIONS\n"
      ]
    },
    {
      "cell_type": "code",
      "source": [
        "# Calculates exponential moving average\n",
        "def ema(seq):\n",
        "  ema = []\n",
        "  alpha = 0.001\n",
        "  ema.append(seq[0])\n",
        "  for i in range(1, len(seq)):\n",
        "    ema.append(alpha * seq[i] + (1 - alpha) * ema[i-1])\n",
        "\n",
        "  return ema"
      ],
      "metadata": {
        "id": "PNkZBMNI8qQk"
      },
      "id": "PNkZBMNI8qQk",
      "execution_count": 9,
      "outputs": []
    },
    {
      "cell_type": "code",
      "execution_count": 10,
      "id": "b288ad57",
      "metadata": {
        "id": "b288ad57",
        "colab": {
          "base_uri": "https://localhost:8080/",
          "height": 564
        },
        "outputId": "ba68aa5a-97f5-4a98-a418-1bd3f4006228"
      },
      "outputs": [
        {
          "output_type": "display_data",
          "data": {
            "text/plain": [
              "<Figure size 1000x600 with 1 Axes>"
            ],
            "image/png": "[encoded data removed]"
          },
          "metadata": {}
        }
      ],
      "source": [
        "# Plots graph\n",
        "plt.figure(figsize=(10,6))\n",
        "plt.scatter([i for i in range(N_episodes)], ema(saved_rewards), label = \"Reward\", s = 1)\n",
        "plt.xlabel('Episodes')\n",
        "plt.ylabel('Reward')\n",
        "plt.title('Rewards Over Time')\n",
        "plt.legend()\n",
        "plt.show()"
      ]
    },
    {
      "cell_type": "code",
      "source": [
        "# Plots graph\n",
        "plt.figure(figsize=(10,6))\n",
        "plt.scatter([i for i in range(N_episodes)], ema(saved_moves), label = \"Move\", s = 1)\n",
        "plt.xlabel('Episodes')\n",
        "plt.ylabel('Move')\n",
        "plt.title('Moves Over Time')\n",
        "plt.legend()\n",
        "plt.show()"
      ],
      "metadata": {
        "colab": {
          "base_uri": "https://localhost:8080/",
          "height": 564
        },
        "id": "QyabyNnPbCoT",
        "outputId": "3267a6ed-8f94-44fc-ac38-747c2d468a1e"
      },
      "id": "QyabyNnPbCoT",
      "execution_count": 11,
      "outputs": [
        {
          "output_type": "display_data",
          "data": {
            "text/plain": [
              "<Figure size 1000x600 with 1 Axes>"
            ],
            "image/png": "[encoded data removed]"
          },
          "metadata": {}
        }
      ]
    },
    {
      "cell_type": "code",
      "source": [
        "# Save graph data\n",
        "with open('rewards.txt', 'w') as my_data_file:\n",
        "   my_data_file.write(str(saved_rewards))"
      ],
      "metadata": {
        "id": "6E2h2BNB6PqI"
      },
      "id": "6E2h2BNB6PqI",
      "execution_count": 12,
      "outputs": []
    },
    {
      "cell_type": "code",
      "source": [
        "# Save graph data\n",
        "with open('moves.txt', 'w') as my_data_file:\n",
        "   my_data_file.write(str(saved_moves))"
      ],
      "metadata": {
        "id": "-_tKWj9-cUdq"
      },
      "id": "-_tKWj9-cUdq",
      "execution_count": 13,
      "outputs": []
    },
    {
      "cell_type": "code",
      "source": [],
      "metadata": {
        "id": "w4W12wWFzYz5"
      },
      "id": "w4W12wWFzYz5",
      "execution_count": null,
      "outputs": []
    }
  ],
  "metadata": {
    "kernelspec": {
      "display_name": "Python 3 (ipykernel)",
      "language": "python",
      "name": "python3"
    },
    "language_info": {
      "codemirror_mode": {
        "name": "ipython",
        "version": 3
      },
      "file_extension": ".py",
      "mimetype": "text/x-python",
      "name": "python",
      "nbconvert_exporter": "python",
      "pygments_lexer": "ipython3",
      "version": "3.8.12"
    },
    "colab": {
      "provenance": [],
      "gpuType": "T4"
    },
    "widgets": {
      "application/vnd.jupyter.widget-state+json": {
        "630ad4b9d5f64c0497ea0aafbf03970e": {
          "model_module": "@jupyter-widgets/controls",
          "model_name": "HBoxModel",
          "model_module_version": "1.5.0",
          "state": {
            "_dom_classes": [],
            "_model_module": "@jupyter-widgets/controls",
            "_model_module_version": "1.5.0",
            "_model_name": "HBoxModel",
            "_view_count": null,
            "_view_module": "@jupyter-widgets/controls",
            "_view_module_version": "1.5.0",
            "_view_name": "HBoxView",
            "box_style": "",
            "children": [
              "IPY_MODEL_96e7c857a35e4c739b2f3f10dcd5e327",
              "IPY_MODEL_0574ae1bac1841c89a5cd62dc4d9b453",
              "IPY_MODEL_b4ed98d3c4b64672b7bfadc7d571fb40"
            ],
            "layout": "IPY_MODEL_1e8788d5a7a84a6aaaf568b468b55c1a"
          }
        },
        "96e7c857a35e4c739b2f3f10dcd5e327": {
          "model_module": "@jupyter-widgets/controls",
          "model_name": "HTMLModel",
          "model_module_version": "1.5.0",
          "state": {
            "_dom_classes": [],
            "_model_module": "@jupyter-widgets/controls",
            "_model_module_version": "1.5.0",
            "_model_name": "HTMLModel",
            "_view_count": null,
            "_view_module": "@jupyter-widgets/controls",
            "_view_module_version": "1.5.0",
            "_view_name": "HTMLView",
            "description": "",
            "description_tooltip": null,
            "layout": "IPY_MODEL_eb002361647e4873a35aece73f8a8231",
            "placeholder": "​",
            "style": "IPY_MODEL_a546902ba3c54522be9db6995cea832f",
            "value": "100%"
          }
        },
        "0574ae1bac1841c89a5cd62dc4d9b453": {
          "model_module": "@jupyter-widgets/controls",
          "model_name": "FloatProgressModel",
          "model_module_version": "1.5.0",
          "state": {
            "_dom_classes": [],
            "_model_module": "@jupyter-widgets/controls",
            "_model_module_version": "1.5.0",
            "_model_name": "FloatProgressModel",
            "_view_count": null,
            "_view_module": "@jupyter-widgets/controls",
            "_view_module_version": "1.5.0",
            "_view_name": "ProgressView",
            "bar_style": "success",
            "description": "",
            "description_tooltip": null,
            "layout": "IPY_MODEL_f0383a161c7d4c3f9c0e649d90e0b8b6",
            "max": 100000,
            "min": 0,
            "orientation": "horizontal",
            "style": "IPY_MODEL_241e85defc5d408187cb3dacf4d9d730",
            "value": 100000
          }
        },
        "b4ed98d3c4b64672b7bfadc7d571fb40": {
          "model_module": "@jupyter-widgets/controls",
          "model_name": "HTMLModel",
          "model_module_version": "1.5.0",
          "state": {
            "_dom_classes": [],
            "_model_module": "@jupyter-widgets/controls",
            "_model_module_version": "1.5.0",
            "_model_name": "HTMLModel",
            "_view_count": null,
            "_view_module": "@jupyter-widgets/controls",
            "_view_module_version": "1.5.0",
            "_view_name": "HTMLView",
            "description": "",
            "description_tooltip": null,
            "layout": "IPY_MODEL_ad9540afbbec4dca89dcdbf6f8e02f0e",
            "placeholder": "​",
            "style": "IPY_MODEL_6a8a49b562c145cc85df809f1c2759c3",
            "value": " 100000/100000 [41:10&lt;00:00, 29.56it/s]"
          }
        },
        "1e8788d5a7a84a6aaaf568b468b55c1a": {
          "model_module": "@jupyter-widgets/base",
          "model_name": "LayoutModel",
          "model_module_version": "1.2.0",
          "state": {
            "_model_module": "@jupyter-widgets/base",
            "_model_module_version": "1.2.0",
            "_model_name": "LayoutModel",
            "_view_count": null,
            "_view_module": "@jupyter-widgets/base",
            "_view_module_version": "1.2.0",
            "_view_name": "LayoutView",
            "align_content": null,
            "align_items": null,
            "align_self": null,
            "border": null,
            "bottom": null,
            "display": null,
            "flex": null,
            "flex_flow": null,
            "grid_area": null,
            "grid_auto_columns": null,
            "grid_auto_flow": null,
            "grid_auto_rows": null,
            "grid_column": null,
            "grid_gap": null,
            "grid_row": null,
            "grid_template_areas": null,
            "grid_template_columns": null,
            "grid_template_rows": null,
            "height": null,
            "justify_content": null,
            "justify_items": null,
            "left": null,
            "margin": null,
            "max_height": null,
            "max_width": null,
            "min_height": null,
            "min_width": null,
            "object_fit": null,
            "object_position": null,
            "order": null,
            "overflow": null,
            "overflow_x": null,
            "overflow_y": null,
            "padding": null,
            "right": null,
            "top": null,
            "visibility": null,
            "width": null
          }
        },
        "eb002361647e4873a35aece73f8a8231": {
          "model_module": "@jupyter-widgets/base",
          "model_name": "LayoutModel",
          "model_module_version": "1.2.0",
          "state": {
            "_model_module": "@jupyter-widgets/base",
            "_model_module_version": "1.2.0",
            "_model_name": "LayoutModel",
            "_view_count": null,
            "_view_module": "@jupyter-widgets/base",
            "_view_module_version": "1.2.0",
            "_view_name": "LayoutView",
            "align_content": null,
            "align_items": null,
            "align_self": null,
            "border": null,
            "bottom": null,
            "display": null,
            "flex": null,
            "flex_flow": null,
            "grid_area": null,
            "grid_auto_columns": null,
            "grid_auto_flow": null,
            "grid_auto_rows": null,
            "grid_column": null,
            "grid_gap": null,
            "grid_row": null,
            "grid_template_areas": null,
            "grid_template_columns": null,
            "grid_template_rows": null,
            "height": null,
            "justify_content": null,
            "justify_items": null,
            "left": null,
            "margin": null,
            "max_height": null,
            "max_width": null,
            "min_height": null,
            "min_width": null,
            "object_fit": null,
            "object_position": null,
            "order": null,
            "overflow": null,
            "overflow_x": null,
            "overflow_y": null,
            "padding": null,
            "right": null,
            "top": null,
            "visibility": null,
            "width": null
          }
        },
        "a546902ba3c54522be9db6995cea832f": {
          "model_module": "@jupyter-widgets/controls",
          "model_name": "DescriptionStyleModel",
          "model_module_version": "1.5.0",
          "state": {
            "_model_module": "@jupyter-widgets/controls",
            "_model_module_version": "1.5.0",
            "_model_name": "DescriptionStyleModel",
            "_view_count": null,
            "_view_module": "@jupyter-widgets/base",
            "_view_module_version": "1.2.0",
            "_view_name": "StyleView",
            "description_width": ""
          }
        },
        "f0383a161c7d4c3f9c0e649d90e0b8b6": {
          "model_module": "@jupyter-widgets/base",
          "model_name": "LayoutModel",
          "model_module_version": "1.2.0",
          "state": {
            "_model_module": "@jupyter-widgets/base",
            "_model_module_version": "1.2.0",
            "_model_name": "LayoutModel",
            "_view_count": null,
            "_view_module": "@jupyter-widgets/base",
            "_view_module_version": "1.2.0",
            "_view_name": "LayoutView",
            "align_content": null,
            "align_items": null,
            "align_self": null,
            "border": null,
            "bottom": null,
            "display": null,
            "flex": null,
            "flex_flow": null,
            "grid_area": null,
            "grid_auto_columns": null,
            "grid_auto_flow": null,
            "grid_auto_rows": null,
            "grid_column": null,
            "grid_gap": null,
            "grid_row": null,
            "grid_template_areas": null,
            "grid_template_columns": null,
            "grid_template_rows": null,
            "height": null,
            "justify_content": null,
            "justify_items": null,
            "left": null,
            "margin": null,
            "max_height": null,
            "max_width": null,
            "min_height": null,
            "min_width": null,
            "object_fit": null,
            "object_position": null,
            "order": null,
            "overflow": null,
            "overflow_x": null,
            "overflow_y": null,
            "padding": null,
            "right": null,
            "top": null,
            "visibility": null,
            "width": null
          }
        },
        "241e85defc5d408187cb3dacf4d9d730": {
          "model_module": "@jupyter-widgets/controls",
          "model_name": "ProgressStyleModel",
          "model_module_version": "1.5.0",
          "state": {
            "_model_module": "@jupyter-widgets/controls",
            "_model_module_version": "1.5.0",
            "_model_name": "ProgressStyleModel",
            "_view_count": null,
            "_view_module": "@jupyter-widgets/base",
            "_view_module_version": "1.2.0",
            "_view_name": "StyleView",
            "bar_color": null,
            "description_width": ""
          }
        },
        "ad9540afbbec4dca89dcdbf6f8e02f0e": {
          "model_module": "@jupyter-widgets/base",
          "model_name": "LayoutModel",
          "model_module_version": "1.2.0",
          "state": {
            "_model_module": "@jupyter-widgets/base",
            "_model_module_version": "1.2.0",
            "_model_name": "LayoutModel",
            "_view_count": null,
            "_view_module": "@jupyter-widgets/base",
            "_view_module_version": "1.2.0",
            "_view_name": "LayoutView",
            "align_content": null,
            "align_items": null,
            "align_self": null,
            "border": null,
            "bottom": null,
            "display": null,
            "flex": null,
            "flex_flow": null,
            "grid_area": null,
            "grid_auto_columns": null,
            "grid_auto_flow": null,
            "grid_auto_rows": null,
            "grid_column": null,
            "grid_gap": null,
            "grid_row": null,
            "grid_template_areas": null,
            "grid_template_columns": null,
            "grid_template_rows": null,
            "height": null,
            "justify_content": null,
            "justify_items": null,
            "left": null,
            "margin": null,
            "max_height": null,
            "max_width": null,
            "min_height": null,
            "min_width": null,
            "object_fit": null,
            "object_position": null,
            "order": null,
            "overflow": null,
            "overflow_x": null,
            "overflow_y": null,
            "padding": null,
            "right": null,
            "top": null,
            "visibility": null,
            "width": null
          }
        },
        "6a8a49b562c145cc85df809f1c2759c3": {
          "model_module": "@jupyter-widgets/controls",
          "model_name": "DescriptionStyleModel",
          "model_module_version": "1.5.0",
          "state": {
            "_model_module": "@jupyter-widgets/controls",
            "_model_module_version": "1.5.0",
            "_model_name": "DescriptionStyleModel",
            "_view_count": null,
            "_view_module": "@jupyter-widgets/base",
            "_view_module_version": "1.2.0",
            "_view_name": "StyleView",
            "description_width": ""
          }
        }
      }
    },
    "gpuClass": "standard"
  },
  "nbformat": 4,
  "nbformat_minor": 5
}